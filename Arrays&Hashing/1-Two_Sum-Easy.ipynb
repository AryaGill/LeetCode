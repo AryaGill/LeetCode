{
 "cells": [
  {
   "cell_type": "markdown",
   "metadata": {},
   "source": [
    "# Two Sum"
   ]
  },
  {
   "cell_type": "markdown",
   "metadata": {},
   "source": [
    "Given an array of integers `nums` and an integer `target`, return indices of the two numbers such that they add up to `target`.\n",
    "\n",
    "You may assume that each input would have exactly one solution, and you may not use the same element twice.\n",
    "\n",
    "You can return the answer in any order.\n",
    "\n",
    " \n",
    "\n",
    "**Example 1:**\n",
    "\n",
    "`Input: nums = [2,7,11,15], target = 9`\n",
    "\n",
    "`Output: [0,1]`\n",
    "\n",
    "`Explanation: Because nums[0] + nums[1] == 9, we return [0, 1].`\n",
    "\n",
    "**Example 2:**\n",
    "\n",
    "`Input: nums = [3,2,4], target = 6`\n",
    "\n",
    "`Output: [1,2]`\n",
    "\n",
    "**Example 3:**\n",
    "\n",
    "`Input: nums = [3,3], target = 6`\n",
    "\n",
    "`Output: [0,1]`\n",
    " \n",
    "\n",
    "**Constraints:**\n",
    "\n",
    "* `2 <= nums.length <= 104`\n",
    "* `-109 <= nums[i] <= 109`\n",
    "* `-109 <= target <= 109`\n",
    "* `Only one valid answer exists`"
   ]
  },
  {
   "cell_type": "code",
   "execution_count": 39,
   "metadata": {},
   "outputs": [],
   "source": [
    "def twoSum(nums:list[int], target:int)->list[int]:\n",
    "    hash_x = {} # val : index\n",
    "    for i in range(len(nums)):\n",
    "        c_look = target - nums[i]\n",
    "        if c_look not in hash_x:\n",
    "            hash_x[nums[i]] = i \n",
    "        elif c_look in hash_x:\n",
    "            return [hash_x[c_look], i]"
   ]
  },
  {
   "cell_type": "code",
   "execution_count": 40,
   "metadata": {},
   "outputs": [],
   "source": [
    "assert(twoSum([2,7,11,15], 9)) in [[0,1],[1,0]] \n",
    "assert(twoSum([3,2,4], 6)) in [[1,2],[2,1]]\n",
    "assert(twoSum([3,3], 6)) in [[0,1],[1,0]]"
   ]
  }
 ],
 "metadata": {
  "kernelspec": {
   "display_name": "base",
   "language": "python",
   "name": "python3"
  },
  "language_info": {
   "codemirror_mode": {
    "name": "ipython",
    "version": 3
   },
   "file_extension": ".py",
   "mimetype": "text/x-python",
   "name": "python",
   "nbconvert_exporter": "python",
   "pygments_lexer": "ipython3",
   "version": "3.12.2"
  }
 },
 "nbformat": 4,
 "nbformat_minor": 2
}
