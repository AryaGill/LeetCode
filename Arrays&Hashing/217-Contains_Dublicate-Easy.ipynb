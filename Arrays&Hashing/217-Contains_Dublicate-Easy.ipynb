{
 "cells": [
  {
   "cell_type": "markdown",
   "metadata": {},
   "source": [
    "# 217. Contains Duplicate"
   ]
  },
  {
   "cell_type": "markdown",
   "metadata": {},
   "source": [
    "Given an integer array nums, return true if any value appears at least twice in the array, and return false if every element is distinct.\n",
    "\n",
    " \n",
    "\n",
    "**Example 1:**\n",
    "\n",
    "`Input: nums = [1,2,3,1]\n",
    "Output: true`\n",
    "\n",
    "**Example 2:**\n",
    "\n",
    "`Input: nums = [1,2,3,4]\n",
    "Output: false`\n",
    "\n",
    "**Example 3:**\n",
    "\n",
    "`Input: nums = [1,1,1,3,3,4,3,2,4,2]\n",
    "Output: true`\n",
    " \n",
    "\n",
    "**Constraints:**\n",
    "\n",
    "* `1 <= nums.length <= 105`\n",
    "* `-109 <= nums[i] <= 109`"
   ]
  },
  {
   "cell_type": "code",
   "execution_count": 1,
   "metadata": {},
   "outputs": [],
   "source": [
    "def containsDuplicate(nums: list[int])->bool:\n",
    "    hash = set()\n",
    "    for char in nums:\n",
    "        if char in hash: \n",
    "            return True\n",
    "        else: \n",
    "            hash.add(char)\n",
    "    return False"
   ]
  },
  {
   "cell_type": "code",
   "execution_count": 2,
   "metadata": {},
   "outputs": [],
   "source": [
    "assert(containsDuplicate([1,2,3,1])) == True\n",
    "assert(containsDuplicate([1,2,3,4])) == False\n",
    "assert(containsDuplicate([1,1,1,3,3,4,3,2,4,2])) == True\n"
   ]
  }
 ],
 "metadata": {
  "kernelspec": {
   "display_name": "base",
   "language": "python",
   "name": "python3"
  },
  "language_info": {
   "codemirror_mode": {
    "name": "ipython",
    "version": 3
   },
   "file_extension": ".py",
   "mimetype": "text/x-python",
   "name": "python",
   "nbconvert_exporter": "python",
   "pygments_lexer": "ipython3",
   "version": "3.12.2"
  }
 },
 "nbformat": 4,
 "nbformat_minor": 2
}
