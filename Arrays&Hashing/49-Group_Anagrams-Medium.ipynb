{
 "cells": [
  {
   "cell_type": "markdown",
   "metadata": {},
   "source": [
    "# 49. Group Anagrams"
   ]
  },
  {
   "cell_type": "markdown",
   "metadata": {},
   "source": [
    "Given an array of strings `strs`, group the anagrams together. You can return the answer in any order.\n",
    "\n",
    "An Anagram is a word or phrase formed by rearranging the letters of a different word or phrase, typically using all the original letters exactly once.\n",
    "\n",
    " \n",
    "\n",
    "**Example 1:**\n",
    "\n",
    "`Input: strs = [\"eat\",\"tea\",\"tan\",\"ate\",\"nat\",\"bat\"]`\n",
    "\n",
    "\n",
    "`Output: [[\"bat\"],[\"nat\",\"tan\"],[\"ate\",\"eat\",\"tea\"]]`\n",
    "\n",
    "\n",
    "**Example 2:**\n",
    "\n",
    "`Input: strs = [\"\"]`\n",
    "\n",
    "\n",
    "`Output: [[\"\"]]`\n",
    "\n",
    "\n",
    "**Example 3:**\n",
    "\n",
    "`Input: strs = [\"a\"]`\n",
    "\n",
    "\n",
    "`Output: [[\"a\"]]`\n",
    " \n",
    "\n",
    "**Constraints:**\n",
    "\n",
    "* `1 <= strs.length <= 104`\n",
    "* `0 <= strs[i].length <= 100`\n",
    "* `strs[i] consists of lowercase English letters.`"
   ]
  },
  {
   "cell_type": "code",
   "execution_count": 26,
   "metadata": {},
   "outputs": [],
   "source": [
    "from collections import defaultdict\n",
    "def groupAnagrams(strs:list[str])->list[list[str]]:\n",
    "    ls = defaultdict(list) # Essential a hashmap but creates a val if key not found. For edge cases\n",
    "\n",
    "    for s in strs: # Word from list\n",
    "        count = [0]*26 # For all alphabets\n",
    "        for c in s: # Char from word\n",
    "            count[ord(c)-ord(\"a\")]+=1 # Creates word key based on count of each char. `ord(c)-ord(a)` creates index for each alphabet\n",
    "        ls[tuple(count)].append(s) # Create tuple bc list can't be key. Appends word to val if same key \n",
    "    \n",
    "    return ls.values()"
   ]
  },
  {
   "cell_type": "code",
   "execution_count": 27,
   "metadata": {},
   "outputs": [
    {
     "name": "stdout",
     "output_type": "stream",
     "text": [
      "dict_values([['eat', 'tea', 'ate'], ['tan', 'nat'], ['bat']])\n",
      "dict_values([['']])\n",
      "dict_values([['a']])\n"
     ]
    }
   ],
   "source": [
    "print(groupAnagrams([\"eat\",\"tea\",\"tan\",\"ate\",\"nat\",\"bat\"]))\n",
    "print(groupAnagrams([\"\"]))\n",
    "print(groupAnagrams([\"a\"]))"
   ]
  }
 ],
 "metadata": {
  "kernelspec": {
   "display_name": "base",
   "language": "python",
   "name": "python3"
  },
  "language_info": {
   "codemirror_mode": {
    "name": "ipython",
    "version": 3
   },
   "file_extension": ".py",
   "mimetype": "text/x-python",
   "name": "python",
   "nbconvert_exporter": "python",
   "pygments_lexer": "ipython3",
   "version": "3.12.2"
  }
 },
 "nbformat": 4,
 "nbformat_minor": 2
}
