{
 "cells": [
  {
   "cell_type": "markdown",
   "metadata": {},
   "source": [
    "# 271 String Encode and Decode\n",
    "\n",
    "*This problem was taken from neetcode.io since it is a paid leetcode question*"
   ]
  },
  {
   "cell_type": "markdown",
   "metadata": {},
   "source": [
    "Design an algorithm to encode a list of strings to a single string. The encoded string is then decoded back to the original list of strings.\n",
    "\n",
    "Please implement encode and decode\n",
    "\n",
    "**Example 1:**\n",
    "\n",
    "```\n",
    "Input: [\"neet\",\"code\",\"love\",\"you\"]\n",
    "\n",
    "Output:[\"neet\",\"code\",\"love\",\"you\"]\n",
    "```\n",
    "\n",
    "**Example 2:**\n",
    "\n",
    "```\n",
    "Input: [\"we\",\"say\",\":\",\"yes\"]\n",
    "\n",
    "Output: [\"we\",\"say\",\":\",\"yes\"]\n",
    "```"
   ]
  },
  {
   "cell_type": "code",
   "execution_count": 119,
   "metadata": {},
   "outputs": [],
   "source": [
    "def encode(strs:list[str])->str:\n",
    "    result = ''\n",
    "    for s in strs:\n",
    "        result += str(len(s))+'#'+s \n",
    "    return result\n",
    "    \n",
    "def decode(s:str)->list[str]:\n",
    "       i = 0 \n",
    "       result = []\n",
    "       while (i<len(s)):\n",
    "            j = i\n",
    "            while (s[j]!='#'):\n",
    "               j+=1\n",
    "            length = int(s[i:j])\n",
    "            result.append(s[j+1:j+1+length])\n",
    "            i = j+1+length\n",
    "       return result"
   ]
  }
 ],
 "metadata": {
  "kernelspec": {
   "display_name": "base",
   "language": "python",
   "name": "python3"
  },
  "language_info": {
   "codemirror_mode": {
    "name": "ipython",
    "version": 3
   },
   "file_extension": ".py",
   "mimetype": "text/x-python",
   "name": "python",
   "nbconvert_exporter": "python",
   "pygments_lexer": "ipython3",
   "version": "3.12.2"
  }
 },
 "nbformat": 4,
 "nbformat_minor": 2
}
