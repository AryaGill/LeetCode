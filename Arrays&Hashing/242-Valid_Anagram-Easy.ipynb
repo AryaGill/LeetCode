{
 "cells": [
  {
   "cell_type": "markdown",
   "metadata": {},
   "source": [
    "# 242. Valid Anagram"
   ]
  },
  {
   "cell_type": "markdown",
   "metadata": {},
   "source": [
    "Given two strings s and t, return true if t is an anagram of s, and false otherwise.\n",
    "\n",
    "An Anagram is a word or phrase formed by rearranging the letters of a different word or phrase, typically using all the original letters exactly once.\n",
    "\n",
    " \n",
    "\n",
    "**Example 1:**\n",
    "\n",
    "`Input: s = \"anagram\", t = \"nagaram\"\n",
    "Output: true`\n",
    "\n",
    "**Example 2:**\n",
    "\n",
    "`Input: s = \"rat\", t = \"car\"\n",
    "Output: false`\n",
    " \n",
    "\n",
    "**Constraints:**\n",
    "\n",
    "* `1 <= s.length, t.length <= 5 * 104`\n",
    "* `s and t consist of lowercase English letters.`\n",
    " \n",
    "\n",
    "**Follow up:** What if the inputs contain Unicode characters? How would you adapt your solution to such a case?"
   ]
  },
  {
   "cell_type": "code",
   "execution_count": 2,
   "metadata": {},
   "outputs": [],
   "source": [
    "def isAnagram(s:str, t:str)->bool:\n",
    "    if len(s)!=len(t):\n",
    "        return False\n",
    "    \n",
    "    countS, countT = {}, {}\n",
    "    \n",
    "    for i in range(len(s)):\n",
    "        countS[s[i]] = 1+countS.get(s[i], 0)\n",
    "        countT[t[i]] = 1+countT.get(t[i], 0)\n",
    "        \n",
    "    for c in countS:\n",
    "        if countS[c] != countT.get(c,0):\n",
    "            return False\n",
    "        \n",
    "    return True\n",
    "    "
   ]
  },
  {
   "cell_type": "code",
   "execution_count": 8,
   "metadata": {},
   "outputs": [],
   "source": [
    "assert(isAnagram(\"anagram\", \"nagaram\")) == True\n",
    "assert(isAnagram(\"rat\", \"car\")) == False"
   ]
  }
 ],
 "metadata": {
  "kernelspec": {
   "display_name": "base",
   "language": "python",
   "name": "python3"
  },
  "language_info": {
   "codemirror_mode": {
    "name": "ipython",
    "version": 3
   },
   "file_extension": ".py",
   "mimetype": "text/x-python",
   "name": "python",
   "nbconvert_exporter": "python",
   "pygments_lexer": "ipython3",
   "version": "3.12.2"
  }
 },
 "nbformat": 4,
 "nbformat_minor": 2
}
