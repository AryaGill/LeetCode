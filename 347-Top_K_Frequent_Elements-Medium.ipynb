{
 "cells": [
  {
   "cell_type": "markdown",
   "metadata": {},
   "source": [
    "# 347. Top K Frequent Elements"
   ]
  },
  {
   "cell_type": "markdown",
   "metadata": {},
   "source": [
    "Given an integer array `nums` and an integer `k`, return the `k` most frequent elements. You may return the answer in any order.\n",
    "\n",
    " \n",
    "\n",
    "**Example 1:**\n",
    "\n",
    "`Input: nums = [1,1,1,2,2,3], k = 2`\n",
    "\n",
    "\n",
    "`Output: [1,2]`\n",
    "\n",
    "\n",
    "**Example 2:**\n",
    "\n",
    "`Input: nums = [1], k = 1`\n",
    "\n",
    "\n",
    "`Output: [1]`\n",
    " \n",
    "\n",
    "**Constraints:**\n",
    "\n",
    "* `1 <= nums.length <= 105`\n",
    "* `-104 <= nums[i] <= 104`\n",
    "* `k is in the range [1, the number of unique elements in the array].`\n",
    "* `It is guaranteed that the answer is unique.`\n",
    " \n",
    "\n",
    "Follow up: Your algorithm's time complexity must be better than `O(n log n)`, where n is the array's size."
   ]
  },
  {
   "cell_type": "code",
   "execution_count": 5,
   "metadata": {},
   "outputs": [],
   "source": [
    "def topKFrequent(nums:list[int], k:int)->list[int]:\n",
    "    ha = {} \n",
    "    for i in nums: \n",
    "        ha[i] = 1+ha.get(i, 0)\n",
    "            \n",
    "    sod = dict(sorted(ha.items(), key=lambda x:x[1], reverse=True)) \n",
    "    res = list(sod.keys())\n",
    "\n",
    "    return res[0:k]"
   ]
  },
  {
   "cell_type": "code",
   "execution_count": 8,
   "metadata": {},
   "outputs": [],
   "source": [
    "assert(topKFrequent([1,1,1,2,2,3], 2)) == [1,2]\n",
    "assert(topKFrequent([1], 1)) == [1]"
   ]
  }
 ],
 "metadata": {
  "kernelspec": {
   "display_name": "base",
   "language": "python",
   "name": "python3"
  },
  "language_info": {
   "codemirror_mode": {
    "name": "ipython",
    "version": 3
   },
   "file_extension": ".py",
   "mimetype": "text/x-python",
   "name": "python",
   "nbconvert_exporter": "python",
   "pygments_lexer": "ipython3",
   "version": "3.12.2"
  }
 },
 "nbformat": 4,
 "nbformat_minor": 2
}
